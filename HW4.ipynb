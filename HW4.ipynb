{
 "cells": [
  {
   "cell_type": "markdown",
   "metadata": {},
   "source": [
    "# Imports"
   ]
  },
  {
   "cell_type": "code",
   "execution_count": 19,
   "metadata": {},
   "outputs": [],
   "source": [
    "import re\n",
    "import numpy as np\n",
    "import scipy\n",
    "import pandas as pd\n",
    "from tqdm import tqdm\n",
    "%matplotlib inline\n",
    "import seaborn as sns\n",
    "import matplotlib.pyplot as plt\n",
    "from scipy.stats import ttest_ind, ttest_rel, mannwhitneyu"
   ]
  },
  {
   "cell_type": "markdown",
   "metadata": {},
   "source": [
    "# Data Preprocessing "
   ]
  },
  {
   "cell_type": "markdown",
   "metadata": {},
   "source": [
    "Отсюда и далее slot == 0 означает контрользную группу, 1 -- эксперементальную"
   ]
  },
  {
   "cell_type": "code",
   "execution_count": 2,
   "metadata": {
    "scrolled": false
   },
   "outputs": [
    {
     "name": "stderr",
     "output_type": "stream",
     "text": [
      "100%|██████████| 6069254/6069254 [00:33<00:00, 181479.09it/s]\n"
     ]
    }
   ],
   "source": [
    "#<выборка, userID, дата, браузер, число кликов на данном запросе>\n",
    "#slot=exp\tuserID=1\tts=2016-03-03\tbrowser=Browser #2\tall_cl=1\n",
    "\n",
    "patt = re.compile(\"[^\\t]+\")\n",
    "\n",
    "table = []\n",
    "with open('log.txt') as f:\n",
    "    lines = f.readlines()\n",
    "    for l in tqdm(lines):\n",
    "        if len(l) > 4:\n",
    "            l = l.split()\n",
    "            slot = int(l[0][-1] == 'p')\n",
    "            userID = int(l[1][7:])\n",
    "            ts = l[2][3:]\n",
    "            browser = int(l[4][1:])\n",
    "            all_cl = int(l[5][7:])\n",
    "            table.append([slot, userID, ts, browser, all_cl])\n",
    "df = pd.DataFrame(table)\n",
    "df.columns = ['slot', 'userID', 'ts', 'browser', 'all_cl']\n"
   ]
  },
  {
   "cell_type": "markdown",
   "metadata": {},
   "source": [
    "Посмортимна данные и их количество"
   ]
  },
  {
   "cell_type": "code",
   "execution_count": 3,
   "metadata": {},
   "outputs": [
    {
     "data": {
      "text/html": [
       "<div>\n",
       "<style scoped>\n",
       "    .dataframe tbody tr th:only-of-type {\n",
       "        vertical-align: middle;\n",
       "    }\n",
       "\n",
       "    .dataframe tbody tr th {\n",
       "        vertical-align: top;\n",
       "    }\n",
       "\n",
       "    .dataframe thead th {\n",
       "        text-align: right;\n",
       "    }\n",
       "</style>\n",
       "<table border=\"1\" class=\"dataframe\">\n",
       "  <thead>\n",
       "    <tr style=\"text-align: right;\">\n",
       "      <th></th>\n",
       "      <th>slot</th>\n",
       "      <th>userID</th>\n",
       "      <th>ts</th>\n",
       "      <th>browser</th>\n",
       "      <th>all_cl</th>\n",
       "    </tr>\n",
       "  </thead>\n",
       "  <tbody>\n",
       "    <tr>\n",
       "      <th>0</th>\n",
       "      <td>1</td>\n",
       "      <td>1</td>\n",
       "      <td>2016-03-03</td>\n",
       "      <td>2</td>\n",
       "      <td>1</td>\n",
       "    </tr>\n",
       "    <tr>\n",
       "      <th>1</th>\n",
       "      <td>1</td>\n",
       "      <td>1</td>\n",
       "      <td>2016-03-03</td>\n",
       "      <td>2</td>\n",
       "      <td>5</td>\n",
       "    </tr>\n",
       "    <tr>\n",
       "      <th>2</th>\n",
       "      <td>1</td>\n",
       "      <td>1</td>\n",
       "      <td>2016-03-03</td>\n",
       "      <td>2</td>\n",
       "      <td>1</td>\n",
       "    </tr>\n",
       "    <tr>\n",
       "      <th>3</th>\n",
       "      <td>1</td>\n",
       "      <td>1</td>\n",
       "      <td>2016-03-03</td>\n",
       "      <td>2</td>\n",
       "      <td>1</td>\n",
       "    </tr>\n",
       "    <tr>\n",
       "      <th>4</th>\n",
       "      <td>1</td>\n",
       "      <td>1</td>\n",
       "      <td>2016-03-03</td>\n",
       "      <td>2</td>\n",
       "      <td>6</td>\n",
       "    </tr>\n",
       "  </tbody>\n",
       "</table>\n",
       "</div>"
      ],
      "text/plain": [
       "   slot  userID          ts  browser  all_cl\n",
       "0     1       1  2016-03-03        2       1\n",
       "1     1       1  2016-03-03        2       5\n",
       "2     1       1  2016-03-03        2       1\n",
       "3     1       1  2016-03-03        2       1\n",
       "4     1       1  2016-03-03        2       6"
      ]
     },
     "execution_count": 3,
     "metadata": {},
     "output_type": "execute_result"
    }
   ],
   "source": [
    "df.head()"
   ]
  },
  {
   "cell_type": "code",
   "execution_count": 4,
   "metadata": {},
   "outputs": [
    {
     "data": {
      "text/plain": [
       "30346265"
      ]
     },
     "execution_count": 4,
     "metadata": {},
     "output_type": "execute_result"
    }
   ],
   "source": [
    "df.size"
   ]
  },
  {
   "cell_type": "code",
   "execution_count": 5,
   "metadata": {},
   "outputs": [
    {
     "data": {
      "text/html": [
       "<div>\n",
       "<style scoped>\n",
       "    .dataframe tbody tr th:only-of-type {\n",
       "        vertical-align: middle;\n",
       "    }\n",
       "\n",
       "    .dataframe tbody tr th {\n",
       "        vertical-align: top;\n",
       "    }\n",
       "\n",
       "    .dataframe thead th {\n",
       "        text-align: right;\n",
       "    }\n",
       "</style>\n",
       "<table border=\"1\" class=\"dataframe\">\n",
       "  <thead>\n",
       "    <tr style=\"text-align: right;\">\n",
       "      <th></th>\n",
       "      <th>slot</th>\n",
       "      <th>userID</th>\n",
       "      <th>ts</th>\n",
       "      <th>browser</th>\n",
       "      <th>all_cl</th>\n",
       "    </tr>\n",
       "  </thead>\n",
       "  <tbody>\n",
       "    <tr>\n",
       "      <th>6069248</th>\n",
       "      <td>1</td>\n",
       "      <td>205048</td>\n",
       "      <td>2016-03-02</td>\n",
       "      <td>20</td>\n",
       "      <td>1</td>\n",
       "    </tr>\n",
       "    <tr>\n",
       "      <th>6069249</th>\n",
       "      <td>1</td>\n",
       "      <td>205049</td>\n",
       "      <td>2016-03-02</td>\n",
       "      <td>20</td>\n",
       "      <td>1</td>\n",
       "    </tr>\n",
       "    <tr>\n",
       "      <th>6069250</th>\n",
       "      <td>1</td>\n",
       "      <td>205049</td>\n",
       "      <td>2016-03-02</td>\n",
       "      <td>20</td>\n",
       "      <td>5</td>\n",
       "    </tr>\n",
       "    <tr>\n",
       "      <th>6069251</th>\n",
       "      <td>1</td>\n",
       "      <td>205049</td>\n",
       "      <td>2016-03-02</td>\n",
       "      <td>20</td>\n",
       "      <td>1</td>\n",
       "    </tr>\n",
       "    <tr>\n",
       "      <th>6069252</th>\n",
       "      <td>1</td>\n",
       "      <td>603137</td>\n",
       "      <td>2016-03-02</td>\n",
       "      <td>2</td>\n",
       "      <td>3</td>\n",
       "    </tr>\n",
       "  </tbody>\n",
       "</table>\n",
       "</div>"
      ],
      "text/plain": [
       "         slot  userID          ts  browser  all_cl\n",
       "6069248     1  205048  2016-03-02       20       1\n",
       "6069249     1  205049  2016-03-02       20       1\n",
       "6069250     1  205049  2016-03-02       20       5\n",
       "6069251     1  205049  2016-03-02       20       1\n",
       "6069252     1  603137  2016-03-02        2       3"
      ]
     },
     "execution_count": 5,
     "metadata": {},
     "output_type": "execute_result"
    }
   ],
   "source": [
    "df.tail()"
   ]
  },
  {
   "cell_type": "markdown",
   "metadata": {},
   "source": [
    "# Посчитаем метрику \"сумма кликов\" для эксперимента и контроля"
   ]
  },
  {
   "cell_type": "code",
   "execution_count": 6,
   "metadata": {},
   "outputs": [],
   "source": [
    "dfgrouped = df.groupby('userID')['all_cl'].sum()\n",
    "control = dfgrouped.loc[np.unique(df.userID[df.slot == 0])]\n",
    "exp = dfgrouped.loc[np.unique(df.userID[df.slot == 1])]"
   ]
  },
  {
   "cell_type": "markdown",
   "metadata": {},
   "source": [
    "Разделим выборку: сравним среднее и количество"
   ]
  },
  {
   "cell_type": "code",
   "execution_count": 7,
   "metadata": {},
   "outputs": [
    {
     "data": {
      "text/plain": [
       "(11.287332273762974, 11.589351572215314)"
      ]
     },
     "execution_count": 7,
     "metadata": {},
     "output_type": "execute_result"
    }
   ],
   "source": [
    "np.mean(control), np.mean(exp)"
   ]
  },
  {
   "cell_type": "code",
   "execution_count": 8,
   "metadata": {},
   "outputs": [
    {
     "data": {
      "text/plain": [
       "(284392, 281450)"
      ]
     },
     "execution_count": 8,
     "metadata": {},
     "output_type": "execute_result"
    }
   ],
   "source": [
    "control.size, exp.size"
   ]
  },
  {
   "cell_type": "markdown",
   "metadata": {},
   "source": [
    "Посчитаем теста Манна-Уитни\n",
    "\n",
    "Ограничения применимости критерия:\n",
    "1. В каждой из выборок должно быть не менее 3 значений признака. Допускается, чтобы в одной выборке было два значения, но во второй тогда не менее пяти.\n",
    "2. В выборочных данных не должно быть совпадающих значений (все числа — разные) или таких совпадений должно быть очень мало (до 10).\n",
    "\n",
    "\n",
    "Это не выполнено для данной выборки, онако, как написано тут -- https://statistics.laerd.com/spss-tutorials/mann-whitney-u-test-using-spss-statistics.php, если дискретное распределение приближает непрерывное распределние его можно использовать."
   ]
  },
  {
   "cell_type": "code",
   "execution_count": 9,
   "metadata": {},
   "outputs": [
    {
     "data": {
      "text/plain": [
       "4.3471471887604393e-75"
      ]
     },
     "execution_count": 9,
     "metadata": {},
     "output_type": "execute_result"
    }
   ],
   "source": [
    "_, p_value = scipy.stats.mannwhitneyu(control, exp, alternative='less')\n",
    "p_value"
   ]
  },
  {
   "cell_type": "markdown",
   "metadata": {},
   "source": [
    "Также посчитаем тест Kolmogorov-Smirnov"
   ]
  },
  {
   "cell_type": "code",
   "execution_count": 10,
   "metadata": {},
   "outputs": [
    {
     "data": {
      "text/plain": [
       "2.9236023409457489e-70"
      ]
     },
     "execution_count": 10,
     "metadata": {},
     "output_type": "execute_result"
    }
   ],
   "source": [
    "_, p_value = scipy.stats.ks_2samp(exp, control)\n",
    "p_value"
   ]
  },
  {
   "cell_type": "markdown",
   "metadata": {},
   "source": [
    "Мы видим, что p_value очень маленько. Поэтому можно сказать, что среднее контрольной группы меньше, чем эксперементальной"
   ]
  },
  {
   "cell_type": "markdown",
   "metadata": {},
   "source": [
    "# Узнаем локализуется ли изменение кликов в каком-либо срезе"
   ]
  },
  {
   "cell_type": "markdown",
   "metadata": {},
   "source": [
    "Посмотрим срез по браузерам"
   ]
  },
  {
   "cell_type": "code",
   "execution_count": 11,
   "metadata": {},
   "outputs": [
    {
     "data": {
      "image/png": "[encoded data removed]",
      "text/plain": [
       "<matplotlib.figure.Figure at 0x1090ad710>"
      ]
     },
     "metadata": {},
     "output_type": "display_data"
    }
   ],
   "source": [
    "df.pivot_table(values='all_cl', index='browser', columns='slot', aggfunc=np.mean).plot();"
   ]
  },
  {
   "cell_type": "markdown",
   "metadata": {},
   "source": [
    "Посмотрим срез по дате"
   ]
  },
  {
   "cell_type": "code",
   "execution_count": 12,
   "metadata": {},
   "outputs": [
    {
     "data": {
      "image/png": "[encoded data removed]",
      "text/plain": [
       "<matplotlib.figure.Figure at 0x18bbfe550>"
      ]
     },
     "metadata": {},
     "output_type": "display_data"
    }
   ],
   "source": [
    "df.pivot_table(values='all_cl', index='ts', columns='slot', aggfunc=np.mean).plot();"
   ]
  },
  {
   "cell_type": "markdown",
   "metadata": {},
   "source": [
    "Видно, что на 14 браузер происходит локализация кликов\n",
    "\n",
    "Посмотрим на него отдельно"
   ]
  },
  {
   "cell_type": "code",
   "execution_count": 13,
   "metadata": {},
   "outputs": [
    {
     "data": {
      "image/png": "[encoded data removed]",
      "text/plain": [
       "<matplotlib.figure.Figure at 0x18ad52278>"
      ]
     },
     "metadata": {},
     "output_type": "display_data"
    }
   ],
   "source": [
    "df[df.browser == 14].pivot_table(values='all_cl', index='ts', columns='slot', aggfunc=np.mean).plot();"
   ]
  },
  {
   "cell_type": "markdown",
   "metadata": {},
   "source": [
    "Проверим значимость различия статистически."
   ]
  },
  {
   "cell_type": "code",
   "execution_count": 20,
   "metadata": {},
   "outputs": [
    {
     "data": {
      "text/plain": [
       "0.0"
      ]
     },
     "execution_count": 20,
     "metadata": {},
     "output_type": "execute_result"
    }
   ],
   "source": [
    "df14 = df[df.browser == 14]\n",
    "control = dfgrouped.loc[np.unique(df14.userID[df14.slot == 0])]\n",
    "exp = dfgrouped.loc[np.unique(df14.userID[df.slot == 1])]\n",
    "_, pvalue = mannwhitneyu(control, exp, alternative='less')\n",
    "pvalue"
   ]
  },
  {
   "cell_type": "markdown",
   "metadata": {},
   "source": [
    "# Какой эффект имело эксперементальное изменение"
   ]
  },
  {
   "cell_type": "markdown",
   "metadata": {},
   "source": [
    "Итак, мы заметили, что на 14 браузере возможно сказался эксперемент. Однако, давайте посмотрим, можно ли об этом говорить в общем случае.\n",
    "\n",
    "Еще раз посчитаем p_value на тех же тестах"
   ]
  },
  {
   "cell_type": "code",
   "execution_count": 15,
   "metadata": {},
   "outputs": [
    {
     "data": {
      "text/plain": [
       "slot       int64\n",
       "userID     int64\n",
       "ts        object\n",
       "all_cl     int64\n",
       "dtype: object"
      ]
     },
     "execution_count": 15,
     "metadata": {},
     "output_type": "execute_result"
    }
   ],
   "source": [
    "dfn14 = df[df.browser != 14]\n",
    "del dfn14['browser']\n",
    "dfn14.reset_index(drop=True, inplace=True)\n",
    "dfn14.dtypes"
   ]
  },
  {
   "cell_type": "markdown",
   "metadata": {},
   "source": [
    "Рассмотирим сумму кликов"
   ]
  },
  {
   "cell_type": "code",
   "execution_count": 27,
   "metadata": {},
   "outputs": [
    {
     "data": {
      "image/png": "[encoded data removed]",
      "text/plain": [
       "<matplotlib.figure.Figure at 0x18b63d7b8>"
      ]
     },
     "metadata": {},
     "output_type": "display_data"
    }
   ],
   "source": [
    "groups = df.groupby('userID')['all_cl']\n",
    "uclicks = groups.sum()\n",
    "control = uclicks.loc[np.unique(df.userID[df.slot == 0])]\n",
    "exp = uclicks.loc[np.unique(df.userID[df.slot == 1])]"
   ]
  },
  {
   "cell_type": "code",
   "execution_count": null,
   "metadata": {},
   "outputs": [],
   "source": [
    "_, pvalue = mannwhitneyu(control, exp)\n",
    "pvalue"
   ]
  },
  {
   "cell_type": "markdown",
   "metadata": {},
   "source": [
    "pvalue больше 0.05 значит гипотеза отвергается\n",
    "\n",
    "Таким образом можно сказать, что если в 14 браузере произошла какая-то аномалия, то только этим вызвано отличие контрольной группы от эксперементальной. Однако, давайте еще рассмотрим pvalue по разным браузера"
   ]
  },
  {
   "cell_type": "code",
   "execution_count": 29,
   "metadata": {},
   "outputs": [
    {
     "name": "stdout",
     "output_type": "stream",
     "text": [
      "browser=2, pvalue_less=0.0272438604197241, pvalue_greater=0.9727561514516361\n",
      "browser=4, pvalue_less=0.40760617658454984, pvalue_greater=0.5923938668034461\n",
      "browser=14, pvalue_less=0.0, pvalue_greater=1.0\n",
      "browser=17, pvalue_less=0.03740060143010802, pvalue_greater=0.96259949476143\n",
      "browser=20, pvalue_less=0.45366656388735377, pvalue_greater=0.5463338763856747\n",
      "browser=22, pvalue_less=0.7425945262969064, pvalue_greater=0.2574055152210032\n"
     ]
    }
   ],
   "source": [
    "for browser in np.unique(df.browser):\n",
    "    dfb = df[df.browser == browser]\n",
    "    groups = dfb.groupby('userID')['all_cl']\n",
    "    uclicks = groups.sum()\n",
    "    control = uclicks.loc[np.unique(dfb.userID[dfb.slot == 0])]\n",
    "    exp = uclicks.loc[np.unique(dfb.userID[dfb.slot == 1])]\n",
    "    _, pvalue_less = mannwhitneyu(control, exp, alternative='less')\n",
    "    _, pvalue_greater = mannwhitneyu(control, exp, alternative='greater')\n",
    "    print(\"browser={}, pvalue_less={}, pvalue_greater={}\".format(browser, pvalue_less, pvalue_greater))"
   ]
  },
  {
   "cell_type": "markdown",
   "metadata": {},
   "source": [
    "## CTR\n",
    "Ну и чтобы окончательно убедиться, посмотрим на другую кликовую меру"
   ]
  },
  {
   "cell_type": "code",
   "execution_count": 30,
   "metadata": {},
   "outputs": [
    {
     "data": {
      "text/plain": [
       "3.1629583858467e-308"
      ]
     },
     "execution_count": 30,
     "metadata": {},
     "output_type": "execute_result"
    }
   ],
   "source": [
    "groups = df.groupby('userID')['all_cl']\n",
    "uclicks = groups.mean()\n",
    "control = uclicks.loc[np.unique(df.userID[df.slot == 0])]\n",
    "exp = uclicks.loc[np.unique(df.userID[df.slot == 1])]\n",
    "    \n",
    "_, pvalue = mannwhitneyu(control, exp)\n",
    "pvalue"
   ]
  },
  {
   "cell_type": "code",
   "execution_count": null,
   "metadata": {},
   "outputs": [],
   "source": [
    "## Zrate"
   ]
  },
  {
   "cell_type": "code",
   "execution_count": null,
   "metadata": {},
   "outputs": [],
   "source": [
    "groups = df.groupby('userID')['all_cl']\n",
    "uclicks = groups.agg(lambda _: sum(_ == 0) / len(_))\n",
    "control = uclicks.loc[np.unique(df.userID[df.slot == 0])]\n",
    "exp = uclicks.loc[np.unique(df.userID[df.slot == 1])]"
   ]
  },
  {
   "cell_type": "markdown",
   "metadata": {},
   "source": [
    "# Выводы"
   ]
  },
  {
   "cell_type": "code",
   "execution_count": null,
   "metadata": {},
   "outputs": [],
   "source": [
    "uclicks = df[df.browser != 14].groupby('userID')['all_cl'].sum()\n",
    "control = uclicks.loc[np.unique(df[df.browser != 14].userID[df[df.browser != 14].slot == 0])]\n",
    "exp = uclicks.loc[np.unique(df[df.browser != 14].userID[df[df.browser != 14].slot == 1])]"
   ]
  },
  {
   "cell_type": "code",
   "execution_count": null,
   "metadata": {},
   "outputs": [],
   "source": [
    "_, pvalue = scipy.stats.mannwhitneyu(control, exp)\n",
    "pvalue"
   ]
  },
  {
   "cell_type": "code",
   "execution_count": null,
   "metadata": {},
   "outputs": [],
   "source": [
    "_, p_value = scipy.stats.ks_2samp(exp, control)\n",
    "p_value"
   ]
  },
  {
   "cell_type": "markdown",
   "metadata": {},
   "source": [
    "p_value > 0.05\n",
    "\n",
    "Итог: можно говорить о положительном эффекте только на одном бразере. Про остальные ничего можно сказать, что эффекста не было."
   ]
  }
 ],
 "metadata": {
  "kernelspec": {
   "display_name": "Python 2",
   "language": "python",
   "name": "python2"
  },
  "language_info": {
   "codemirror_mode": {
    "name": "ipython",
    "version": 2
   },
   "file_extension": ".py",
   "mimetype": "text/x-python",
   "name": "python",
   "nbconvert_exporter": "python",
   "pygments_lexer": "ipython2",
   "version": "2.7.6"
  }
 },
 "nbformat": 4,
 "nbformat_minor": 2
}
